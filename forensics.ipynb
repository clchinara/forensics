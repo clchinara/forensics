{
  "nbformat": 4,
  "nbformat_minor": 0,
  "metadata": {
    "colab": {
      "provenance": [],
      "gpuType": "T4",
      "authorship_tag": "ABX9TyN7lB06M5hoRlla76QFeCJf",
      "include_colab_link": true
    },
    "kernelspec": {
      "name": "python3",
      "display_name": "Python 3"
    },
    "language_info": {
      "name": "python"
    },
    "accelerator": "GPU"
  },
  "cells": [
    {
      "cell_type": "markdown",
      "metadata": {
        "id": "view-in-github",
        "colab_type": "text"
      },
      "source": [
        "<a href=\"https://colab.research.google.com/github/clchinara/forensics/blob/master/forensics.ipynb\" target=\"_parent\"><img src=\"https://colab.research.google.com/assets/colab-badge.svg\" alt=\"Open In Colab\"/></a>"
      ]
    },
    {
      "cell_type": "code",
      "source": [
        "from google.colab import drive\n",
        "drive.mount('/content/drive')"
      ],
      "metadata": {
        "colab": {
          "base_uri": "https://localhost:8080/"
        },
        "id": "M7ueu4vpsHME",
        "outputId": "928b925e-456a-4248-8dc8-1c68a8fb519c"
      },
      "execution_count": 6,
      "outputs": [
        {
          "output_type": "stream",
          "name": "stdout",
          "text": [
            "Mounted at /content/drive\n"
          ]
        }
      ]
    },
    {
      "cell_type": "code",
      "source": [
        "!git clone https://github.com/clchinara/forensics.git"
      ],
      "metadata": {
        "colab": {
          "base_uri": "https://localhost:8080/"
        },
        "id": "pzdah59UsK0e",
        "outputId": "75c8d0d3-5ff4-442c-a308-31809d896fec"
      },
      "execution_count": 7,
      "outputs": [
        {
          "output_type": "stream",
          "name": "stdout",
          "text": [
            "Cloning into 'forensics'...\n",
            "remote: Enumerating objects: 73, done.\u001b[K\n",
            "remote: Counting objects: 100% (73/73), done.\u001b[K\n",
            "remote: Compressing objects: 100% (57/57), done.\u001b[K\n",
            "remote: Total 73 (delta 40), reused 37 (delta 14), pack-reused 0\u001b[K\n",
            "Receiving objects: 100% (73/73), 28.56 KiB | 7.14 MiB/s, done.\n",
            "Resolving deltas: 100% (40/40), done.\n"
          ]
        }
      ]
    },
    {
      "cell_type": "markdown",
      "source": [
        "# New section"
      ],
      "metadata": {
        "id": "LifOJ2N9tCKp"
      }
    },
    {
      "cell_type": "code",
      "execution_count": 1,
      "metadata": {
        "colab": {
          "base_uri": "https://localhost:8080/"
        },
        "id": "rpTJx7ChmUY-",
        "outputId": "6af0f4c3-8d26-496c-ca70-470e6cceee47"
      },
      "outputs": [
        {
          "output_type": "stream",
          "name": "stdout",
          "text": [
            "Python 3.10.12\n"
          ]
        }
      ],
      "source": [
        "!python --version"
      ]
    },
    {
      "cell_type": "code",
      "source": [
        "!tensorflow --version"
      ],
      "metadata": {
        "colab": {
          "base_uri": "https://localhost:8080/"
        },
        "id": "iMAZFwVZrRgc",
        "outputId": "08167eb6-b99f-4350-8e65-2926cd610163"
      },
      "execution_count": 2,
      "outputs": [
        {
          "output_type": "stream",
          "name": "stdout",
          "text": [
            "/bin/bash: line 1: tensorflow: command not found\n"
          ]
        }
      ]
    },
    {
      "cell_type": "code",
      "source": [
        "import tensorflow as tf\n",
        "print(tf.__version__)"
      ],
      "metadata": {
        "colab": {
          "base_uri": "https://localhost:8080/"
        },
        "id": "_R80ySLHrdk-",
        "outputId": "87543f02-ef8b-49d3-8021-4270e7c951c8"
      },
      "execution_count": 3,
      "outputs": [
        {
          "output_type": "stream",
          "name": "stdout",
          "text": [
            "2.13.0\n"
          ]
        }
      ]
    },
    {
      "cell_type": "code",
      "source": [
        "import keras\n",
        "print(keras.__version__)"
      ],
      "metadata": {
        "colab": {
          "base_uri": "https://localhost:8080/"
        },
        "id": "a66ygtTer12l",
        "outputId": "fc507d3b-c7a5-4dfa-fafc-b1af3a17b5f3"
      },
      "execution_count": 5,
      "outputs": [
        {
          "output_type": "stream",
          "name": "stdout",
          "text": [
            "2.13.1\n"
          ]
        }
      ]
    },
    {
      "cell_type": "code",
      "source": [
        "!python forensics/inject_backdoor.py --config cifar2 --gpu 0"
      ],
      "metadata": {
        "colab": {
          "base_uri": "https://localhost:8080/"
        },
        "id": "Mo96bC8FtulU",
        "outputId": "f18fa42b-8466-4341-9575-113488bdf707"
      },
      "execution_count": 14,
      "outputs": [
        {
          "output_type": "stream",
          "name": "stdout",
          "text": [
            "/content/forensics/inject_utils.py:311: SyntaxWarning: \"is\" with a literal. Did you mean \"==\"?\n",
            "  if method is 'raw':\n",
            "/content/forensics/inject_utils.py:313: SyntaxWarning: \"is\" with a literal. Did you mean \"==\"?\n",
            "  elif method is 'imagenet':\n",
            "/content/forensics/inject_utils.py:324: SyntaxWarning: \"is\" with a literal. Did you mean \"==\"?\n",
            "  if method is 'raw':\n",
            "/content/forensics/inject_utils.py:326: SyntaxWarning: \"is\" with a literal. Did you mean \"==\"?\n",
            "  elif method is 'imagenet':\n",
            "Traceback (most recent call last):\n",
            "  File \"/content/forensics/inject_backdoor.py\", line 146, in <module>\n",
            "    args = parse_arguments(sys.argv[1:])\n",
            "  File \"/content/forensics/inject_backdoor.py\", line 138, in parse_arguments\n",
            "    open(os.path.join(\"configs/\", args.config + \".json\"), \"r\"))\n",
            "FileNotFoundError: [Errno 2] No such file or directory: 'configs/cifar2.json'\n"
          ]
        }
      ]
    }
  ]
}